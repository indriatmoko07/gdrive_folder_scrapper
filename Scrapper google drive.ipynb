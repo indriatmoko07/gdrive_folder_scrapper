{
 "cells": [
  {
   "cell_type": "markdown",
   "id": "43a0ac1e-e69c-4554-a854-bd73351b1f98",
   "metadata": {},
   "source": [
    "b>GOOGLE DRIVE SCRAPPER</b>\n",
    "By. Indriatmoko"
   ]
  },
  {
   "cell_type": "markdown",
   "id": "4ebb6ff1-9fc3-4836-b293-4be1480b2589",
   "metadata": {},
   "source": [
    "This Python script is a scraper for obtaining a list of directory data and file URLs from files located on Google Drive. To use this script, follow these steps:\n",
    "\n",
    "1. Create client_secrets.json using the Google Drive API:\n",
    "\n",
    "   a. Create a new project on the Google Drive API.\n",
    "\n",
    "    b. In this step, go to console.cloud.google.com and log in with your Google account. Then select \"API & API service.\" Click on \"Enable        API service,\" and search for the Google Drive API. Select the Google Drive API from the search results and choose \"Enable.\"\n",
    "\n",
    "     c. On the left-hand menu, select \"Credentials,\" then click \"Create credentials.\" Choose \"User\" as the credential type. In the OAuth           Consent Screen, enter your email and app name. Under \"Scope,\" click \"Add or Remove Scope.\" In the pop-up window, type \"Google              Drive\" in the search bar, select all relevant Google Drive-related scopes, click \"Update,\" and then \"Save and Continue.\" For OAuth         Client ID, choose \"Desktop app,\" and click \"Create.\" In the final credential step, click \"Download JSON\" and then \"Done.\"\n",
    "\n",
    "2. Determine your directory using the pwd() syntax.\n",
    "\n",
    "3. Rename the JSON file to client_secrets.json and move it to the directory specified in step 2.\n",
    "\n",
    "4. On the left-hand menu, select \"OAuth consent screen\" and choose \"Add user.\" Enter your email and click \"Save.\"\n",
    "\n",
    "5. Get the folder ID by opening Google Drive and looking at the folder's URL. (For example, a Google Drive folder URL is    https://drive.google.com/drive/folders/xxxxxxxxx, where xxxxxxxxx is the folder ID.)\n",
    "\n",
    "6. Run the script below.\n",
    "\n",
    "7. If a pop-up browser window requests authentication access to Google Drive, allow it by clicking \"Continue.\"\n",
    "\n",
    "8. The scraper's output will be in the file_details.xlsx in the directory specified by pwd()."
   ]
  },
  {
   "cell_type": "code",
   "execution_count": null,
   "id": "5e2ae830-8566-49f4-a35c-828791e35fd8",
   "metadata": {},
   "outputs": [],
   "source": [
    "from pydrive.auth import GoogleAuth\n",
    "from pydrive.drive import GoogleDrive\n",
    "import pandas as pd\n",
    "\n",
    "def authenticate_google_drive():\n",
    "    gauth = GoogleAuth()\n",
    "    gauth.LocalWebserverAuth()\n",
    "    drive = GoogleDrive(gauth)\n",
    "    return drive\n",
    "\n",
    "def get_file_details(folder_id, drive, folder_path=''):\n",
    "    query = f\"'{folder_id}' in parents and trashed=false\"\n",
    "    file_list = drive.ListFile({'q': query}).GetList()\n",
    "    file_details = []\n",
    "\n",
    "    for file in file_list:\n",
    "        if file['mimeType'] != 'application/vnd.google-apps.folder':\n",
    "            file_name = file['title']\n",
    "            file_url = file['alternateLink']\n",
    "            file_details.append((folder_path + '/' + file_name, file_url))\n",
    "\n",
    "    subfolders = drive.ListFile({'q': f\"'{folder_id}' in parents and trashed=false and mimeType='application/vnd.google-apps.folder'\"}).GetList()\n",
    "\n",
    "    for subfolder in subfolders:\n",
    "        folder_name = subfolder['title']\n",
    "        subfolder_path = folder_path + '/' + folder_name\n",
    "        file_details.extend(get_file_details(subfolder['id'], drive, folder_path=subfolder_path))\n",
    "\n",
    "    return file_details\n",
    "\n",
    "def main():\n",
    "    folder_id = 'Set-Your-Folder-ID'\n",
    "\n",
    "    drive = authenticate_google_drive()\n",
    "    file_details = get_file_details(folder_id, drive)\n",
    "\n",
    "    df = pd.DataFrame(file_details, columns=['Path',  'Google Drive Link'])\n",
    "    output_file = 'file_details.xlsx'\n",
    "    df.to_excel(output_file, index=False)\n",
    "\n",
    "    print(f\"File details saved to '{output_file}'.\")\n",
    "\n",
    "if __name__ == \"__main__\":\n",
    "    main()\n"
   ]
  }
 ],
 "metadata": {
  "kernelspec": {
   "display_name": "Python 3 (ipykernel)",
   "language": "python",
   "name": "python3"
  },
  "language_info": {
   "codemirror_mode": {
    "name": "ipython",
    "version": 3
   },
   "file_extension": ".py",
   "mimetype": "text/x-python",
   "name": "python",
   "nbconvert_exporter": "python",
   "pygments_lexer": "ipython3",
   "version": "3.11.2"
  }
 },
 "nbformat": 4,
 "nbformat_minor": 5
}
