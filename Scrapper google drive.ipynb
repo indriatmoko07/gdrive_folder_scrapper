{
 "cells": [
  {
   "cell_type": "markdown",
   "id": "43a0ac1e-e69c-4554-a854-bd73351b1f98",
   "metadata": {},
   "source": [
    "<b>GOOGLE DRIVE SCRAPPER</b>"
   ]
  },
  {
   "cell_type": "markdown",
   "id": "4ebb6ff1-9fc3-4836-b293-4be1480b2589",
   "metadata": {},
   "source": [
    "Script python ini merupakan scrapper untuk memperoleh list data folder direktori dan url file pada file yang terdapat dalam google drive.\n",
    "Untuk dapat menggunakan script ini lakukan beberapa tahapan berikut.\n",
    "\n",
    "1. Buat client_secrets.json dengan memanfaatkan google drive API.\n",
    "   \n",
    "a. Buat project baru pada google drive API.\n",
    "\n",
    "b. Pada tahapan ini buka console.cloud.google.com dan login menggunakan akun google anda. kemudian pilih API & API service. Klik pada enable API service lalu search google drive API. Pada hasol search pilih google drive API lalu pilih enable.\n",
    "\n",
    "c. Pada menu disebelah kiri. Pilih credentials.kemudian create credentials. Pada credential type pilih user. Pada OAuth Consent Screen isikan email anda dan app name. Pada scope klik add or remove scope. Lalu pada pop up window yang muncul ketikan google drive pada pencarian lalu pilih semua yang terkait google drive lalu klik update lalu save and continue. pada OAuth Client ID pilih desktop app.  lalu klik create. pada credential (tahap akhir) klik download json. lalu klik done.\n",
    "\n",
    "2. Tentukan direktori anda dengan menggunakan sintax pwd()\n",
    "3. rename file json kedalam client_secrets.json lalu pindahkan file tersebut ke direktori yang ditunjukan nomor 2.\n",
    "4. pada menu sebelah kiri pilih OAuth consent screen lalu plih add user dan masukan email anda. pilih save.\n",
    "5. Dapatkan folder ID dengan membuka google drive dan melihat url folder tersebut. (contoh URL folder gdrive adalah https://drive.google.com/drive/folders/xxxxxxxxx karakter xxxxxxxx adalah folder id.\n",
    "6. running script dibawah ini.\n",
    "7. Jika muncul pop up browser yang meminta autentifikasi akses ke gdrive ijinkan dengan klik lanjutkan\n",
    "8. Hasil scrapper ada pada file_details.xlsx di direktor pwd()"
   ]
  },
  {
   "cell_type": "code",
   "execution_count": 2,
   "id": "5e2ae830-8566-49f4-a35c-828791e35fd8",
   "metadata": {},
   "outputs": [
    {
     "name": "stdout",
     "output_type": "stream",
     "text": [
      "Your browser has been opened to visit:\n",
      "\n",
      "    https://accounts.google.com/o/oauth2/auth?client_id=259187123997-aitifmqqsqpflue4v85n2jl15p5lc0po.apps.googleusercontent.com&redirect_uri=http%3A%2F%2Flocalhost%3A8080%2F&scope=https%3A%2F%2Fwww.googleapis.com%2Fauth%2Fdrive&access_type=offline&response_type=code\n",
      "\n",
      "Authentication successful.\n",
      "File details saved to 'file_details.xlsx'.\n"
     ]
    }
   ],
   "source": [
    "from pydrive.auth import GoogleAuth\n",
    "from pydrive.drive import GoogleDrive\n",
    "import pandas as pd\n",
    "\n",
    "def authenticate_google_drive():\n",
    "    gauth = GoogleAuth()\n",
    "    gauth.LocalWebserverAuth()\n",
    "    drive = GoogleDrive(gauth)\n",
    "    return drive\n",
    "\n",
    "def get_file_details(folder_id, drive, folder_path=''):\n",
    "    query = f\"'{folder_id}' in parents and trashed=false\"\n",
    "    file_list = drive.ListFile({'q': query}).GetList()\n",
    "    file_details = []\n",
    "\n",
    "    for file in file_list:\n",
    "        if file['mimeType'] != 'application/vnd.google-apps.folder':\n",
    "            file_name = file['title']\n",
    "            file_url = file['alternateLink']\n",
    "            file_details.append((folder_path + '/' + file_name, file_url))\n",
    "\n",
    "    subfolders = drive.ListFile({'q': f\"'{folder_id}' in parents and trashed=false and mimeType='application/vnd.google-apps.folder'\"}).GetList()\n",
    "\n",
    "    for subfolder in subfolders:\n",
    "        folder_name = subfolder['title']\n",
    "        subfolder_path = folder_path + '/' + folder_name\n",
    "        file_details.extend(get_file_details(subfolder['id'], drive, folder_path=subfolder_path))\n",
    "\n",
    "    return file_details\n",
    "\n",
    "def main():\n",
    "    folder_id = '1Y5pUYg-Joc0Ok2Drythk6-Hiy9L9sMPv'\n",
    "\n",
    "    drive = authenticate_google_drive()\n",
    "    file_details = get_file_details(folder_id, drive)\n",
    "\n",
    "    df = pd.DataFrame(file_details, columns=['Path',  'Google Drive Link'])\n",
    "    output_file = 'file_details.xlsx'\n",
    "    df.to_excel(output_file, index=False)\n",
    "\n",
    "    print(f\"File details saved to '{output_file}'.\")\n",
    "\n",
    "if __name__ == \"__main__\":\n",
    "    main()\n"
   ]
  },
  {
   "cell_type": "code",
   "execution_count": 2,
   "id": "8260e19b-1776-4022-94cd-db945e6b7743",
   "metadata": {},
   "outputs": [
    {
     "data": {
      "text/plain": [
       "'/home/genetik/Jupyter_project'"
      ]
     },
     "execution_count": 2,
     "metadata": {},
     "output_type": "execute_result"
    }
   ],
   "source": [
    "pwd"
   ]
  },
  {
   "cell_type": "code",
   "execution_count": 8,
   "id": "858f12b8-56df-45d5-b4eb-ee0ef59f9a14",
   "metadata": {},
   "outputs": [
    {
     "name": "stdout",
     "output_type": "stream",
     "text": [
      "Your browser has been opened to visit:\n",
      "\n",
      "    https://accounts.google.com/o/oauth2/auth?client_id=259187123997-aitifmqqsqpflue4v85n2jl15p5lc0po.apps.googleusercontent.com&redirect_uri=http%3A%2F%2Flocalhost%3A8080%2F&scope=https%3A%2F%2Fwww.googleapis.com%2Fauth%2Fdrive&access_type=offline&response_type=code\n",
      "\n",
      "Authentication successful.\n",
      "Subfolder details saved to 'folderisasi_sakip_2024.xlsx'.\n"
     ]
    }
   ],
   "source": [
    "from pydrive.auth import GoogleAuth\n",
    "from pydrive.drive import GoogleDrive\n",
    "import pandas as pd\n",
    "\n",
    "def authenticate_google_drive():\n",
    "    gauth = GoogleAuth()\n",
    "    gauth.LocalWebserverAuth()\n",
    "    drive = GoogleDrive(gauth)\n",
    "    return drive\n",
    "\n",
    "def get_subfolder_details(folder_id, drive, folder_path=''):\n",
    "    query = f\"'{folder_id}' in parents and trashed=false and mimeType='application/vnd.google-apps.folder'\"\n",
    "    subfolder_list = drive.ListFile({'q': query}).GetList()\n",
    "    subfolder_details = []\n",
    "\n",
    "    for subfolder in subfolder_list:\n",
    "        subfolder_name = subfolder['title']\n",
    "        subfolder_url = subfolder['alternateLink']\n",
    "        subfolder_path = folder_path + '/' + subfolder_name if folder_path else subfolder_name\n",
    "        subfolder_details.append((subfolder_path, subfolder_url))\n",
    "\n",
    "        # Recursively get subfolders of the current subfolder\n",
    "        subfolder_details.extend(get_subfolder_details(subfolder['id'], drive, folder_path=subfolder_path))\n",
    "\n",
    "    return subfolder_details\n",
    "\n",
    "def main():\n",
    "    folder_id = '1s4nPC2sxmNiPDe5rIWkOUdjSi3J54mX3'  # Replace with your Google Drive folder ID\n",
    "\n",
    "    drive = authenticate_google_drive()\n",
    "    subfolder_details = get_subfolder_details(folder_id, drive)\n",
    "\n",
    "    df = pd.DataFrame(subfolder_details, columns=['Path', 'Google Drive Link'])\n",
    "    output_file = 'folderisasi_sakip_2024.xlsx'\n",
    "    df.to_excel(output_file, index=False)\n",
    "\n",
    "    print(f\"Subfolder details saved to '{output_file}'.\")\n",
    "\n",
    "if __name__ == \"__main__\":\n",
    "    main()\n",
    "\n"
   ]
  }
 ],
 "metadata": {
  "kernelspec": {
   "display_name": "Python 3 (ipykernel)",
   "language": "python",
   "name": "python3"
  },
  "language_info": {
   "codemirror_mode": {
    "name": "ipython",
    "version": 3
   },
   "file_extension": ".py",
   "mimetype": "text/x-python",
   "name": "python",
   "nbconvert_exporter": "python",
   "pygments_lexer": "ipython3",
   "version": "3.11.2"
  }
 },
 "nbformat": 4,
 "nbformat_minor": 5
}
